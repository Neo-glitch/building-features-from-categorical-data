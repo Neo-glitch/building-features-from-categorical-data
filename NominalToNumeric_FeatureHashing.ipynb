{
 "cells": [
  {
   "cell_type": "code",
   "execution_count": 14,
   "metadata": {},
   "outputs": [],
   "source": [
    "#11th notebook\n",
    "\n",
    "import pandas as pd\n",
    "import numpy as np\n",
    "import seaborn as sns\n",
    "import matplotlib.pyplot as plt\n",
    "\n",
    "# lib that does feature hashing, and scales well to large data and good for online learning\n",
    "from sklearn.feature_extraction import FeatureHasher   "
   ]
  },
  {
   "cell_type": "code",
   "execution_count": 15,
   "metadata": {},
   "outputs": [],
   "source": [
    "hasher = FeatureHasher(n_features = 5, input_type = \"dict\")"
   ]
  },
  {
   "cell_type": "code",
   "execution_count": 20,
   "metadata": {},
   "outputs": [],
   "source": [
    "random_dict = hasher.fit_transform([\n",
    "    {\"a\":1, \"b\": 2},\n",
    "    {\"a\": 0, \"c\": 5}])"
   ]
  },
  {
   "cell_type": "code",
   "execution_count": 22,
   "metadata": {},
   "outputs": [
    {
     "data": {
      "text/plain": [
       "<2x5 sparse matrix of type '<class 'numpy.float64'>'\n",
       "\twith 3 stored elements in Compressed Sparse Row format>"
      ]
     },
     "execution_count": 22,
     "metadata": {},
     "output_type": "execute_result"
    }
   ],
   "source": [
    "random_dict # 2x5 means 2 records(dict here) rep using 5 features"
   ]
  },
  {
   "cell_type": "code",
   "execution_count": 23,
   "metadata": {},
   "outputs": [
    {
     "data": {
      "text/plain": [
       "array([[ 1., -2.,  0.,  0.,  0.],\n",
       "       [ 0.,  0., -5.,  0.,  0.]])"
      ]
     },
     "execution_count": 23,
     "metadata": {},
     "output_type": "execute_result"
    }
   ],
   "source": [
    "random_dict.toarray()"
   ]
  },
  {
   "cell_type": "code",
   "execution_count": 26,
   "metadata": {},
   "outputs": [],
   "source": [
    "# feature hasher on pairs(tuples)\n",
    "hasher_pair = FeatureHasher(n_features = 5, input_type = \"pair\")"
   ]
  },
  {
   "cell_type": "code",
   "execution_count": 29,
   "metadata": {},
   "outputs": [],
   "source": [
    "random_pair= hasher_pair.fit_transform([\n",
    "    [(\"a\", 1), (\"b\", 2)],\n",
    "    [(\"a\", 0), (\"c\", 5)]\n",
    "])"
   ]
  },
  {
   "cell_type": "code",
   "execution_count": 30,
   "metadata": {},
   "outputs": [
    {
     "data": {
      "text/plain": [
       "<2x5 sparse matrix of type '<class 'numpy.float64'>'\n",
       "\twith 3 stored elements in Compressed Sparse Row format>"
      ]
     },
     "execution_count": 30,
     "metadata": {},
     "output_type": "execute_result"
    }
   ],
   "source": [
    "random_pair"
   ]
  },
  {
   "cell_type": "code",
   "execution_count": 31,
   "metadata": {},
   "outputs": [],
   "source": [
    "# feature hasher on text(normal use of this)\n",
    "\n",
    "text = [\"This is me fool\",\n",
    "       \"Hi, my name is sman\",\n",
    "       \"The best team in england is chelsea\",\n",
    "       \"I think Nigeria is cursed\"]"
   ]
  },
  {
   "cell_type": "code",
   "execution_count": 33,
   "metadata": {},
   "outputs": [],
   "source": [
    "hasher = FeatureHasher(n_features = 8, input_type = \"string\")"
   ]
  },
  {
   "cell_type": "code",
   "execution_count": 34,
   "metadata": {},
   "outputs": [],
   "source": [
    "hashed_features = hasher.fit_transform(text)"
   ]
  },
  {
   "cell_type": "code",
   "execution_count": 35,
   "metadata": {},
   "outputs": [
    {
     "data": {
      "text/plain": [
       "<4x8 sparse matrix of type '<class 'numpy.float64'>'\n",
       "\twith 27 stored elements in Compressed Sparse Row format>"
      ]
     },
     "execution_count": 35,
     "metadata": {},
     "output_type": "execute_result"
    }
   ],
   "source": [
    "hashed_features"
   ]
  },
  {
   "cell_type": "markdown",
   "metadata": {},
   "source": [
    "***\n",
    "***Feature hasher on real dataset***"
   ]
  },
  {
   "cell_type": "code",
   "execution_count": 36,
   "metadata": {},
   "outputs": [
    {
     "data": {
      "text/html": [
       "<div>\n",
       "<style scoped>\n",
       "    .dataframe tbody tr th:only-of-type {\n",
       "        vertical-align: middle;\n",
       "    }\n",
       "\n",
       "    .dataframe tbody tr th {\n",
       "        vertical-align: top;\n",
       "    }\n",
       "\n",
       "    .dataframe thead th {\n",
       "        text-align: right;\n",
       "    }\n",
       "</style>\n",
       "<table border=\"1\" class=\"dataframe\">\n",
       "  <thead>\n",
       "    <tr style=\"text-align: right;\">\n",
       "      <th></th>\n",
       "      <th>Month</th>\n",
       "      <th>Day_of_month</th>\n",
       "      <th>ozone_reading</th>\n",
       "      <th>pressure_height</th>\n",
       "      <th>Wind_speed</th>\n",
       "      <th>Humidity</th>\n",
       "      <th>Inversion_temperature</th>\n",
       "      <th>Visibility</th>\n",
       "    </tr>\n",
       "  </thead>\n",
       "  <tbody>\n",
       "    <tr>\n",
       "      <th>73</th>\n",
       "      <td>April</td>\n",
       "      <td>28</td>\n",
       "      <td>8.68</td>\n",
       "      <td>5650</td>\n",
       "      <td>6</td>\n",
       "      <td>46</td>\n",
       "      <td>37.94</td>\n",
       "      <td>150</td>\n",
       "    </tr>\n",
       "    <tr>\n",
       "      <th>62</th>\n",
       "      <td>April</td>\n",
       "      <td>12</td>\n",
       "      <td>4.81</td>\n",
       "      <td>5560</td>\n",
       "      <td>4</td>\n",
       "      <td>65</td>\n",
       "      <td>35.24</td>\n",
       "      <td>140</td>\n",
       "    </tr>\n",
       "    <tr>\n",
       "      <th>23</th>\n",
       "      <td>February</td>\n",
       "      <td>10</td>\n",
       "      <td>4.08</td>\n",
       "      <td>5560</td>\n",
       "      <td>10</td>\n",
       "      <td>72</td>\n",
       "      <td>37.58</td>\n",
       "      <td>300</td>\n",
       "    </tr>\n",
       "    <tr>\n",
       "      <th>71</th>\n",
       "      <td>April</td>\n",
       "      <td>26</td>\n",
       "      <td>12.23</td>\n",
       "      <td>5700</td>\n",
       "      <td>5</td>\n",
       "      <td>41</td>\n",
       "      <td>58.10</td>\n",
       "      <td>40</td>\n",
       "    </tr>\n",
       "    <tr>\n",
       "      <th>35</th>\n",
       "      <td>March</td>\n",
       "      <td>2</td>\n",
       "      <td>3.22</td>\n",
       "      <td>5470</td>\n",
       "      <td>7</td>\n",
       "      <td>46</td>\n",
       "      <td>29.30</td>\n",
       "      <td>300</td>\n",
       "    </tr>\n",
       "    <tr>\n",
       "      <th>97</th>\n",
       "      <td>June</td>\n",
       "      <td>17</td>\n",
       "      <td>10.77</td>\n",
       "      <td>5830</td>\n",
       "      <td>6</td>\n",
       "      <td>64</td>\n",
       "      <td>68.72</td>\n",
       "      <td>80</td>\n",
       "    </tr>\n",
       "  </tbody>\n",
       "</table>\n",
       "</div>"
      ],
      "text/plain": [
       "       Month  Day_of_month  ozone_reading  pressure_height  Wind_speed  \\\n",
       "73     April            28           8.68             5650           6   \n",
       "62     April            12           4.81             5560           4   \n",
       "23  February            10           4.08             5560          10   \n",
       "71     April            26          12.23             5700           5   \n",
       "35     March             2           3.22             5470           7   \n",
       "97      June            17          10.77             5830           6   \n",
       "\n",
       "    Humidity  Inversion_temperature  Visibility  \n",
       "73        46                  37.94         150  \n",
       "62        65                  35.24         140  \n",
       "23        72                  37.58         300  \n",
       "71        41                  58.10          40  \n",
       "35        46                  29.30         300  \n",
       "97        64                  68.72          80  "
      ]
     },
     "execution_count": 36,
     "metadata": {},
     "output_type": "execute_result"
    }
   ],
   "source": [
    "ozone_reading = pd.read_csv(\"./datasets/ozone_reading.csv\")\n",
    "\n",
    "ozone_reading.sample(6)"
   ]
  },
  {
   "cell_type": "code",
   "execution_count": 37,
   "metadata": {},
   "outputs": [
    {
     "data": {
      "text/plain": [
       "array(['January', 'February', 'March', 'April', 'May', 'June'],\n",
       "      dtype=object)"
      ]
     },
     "execution_count": 37,
     "metadata": {},
     "output_type": "execute_result"
    }
   ],
   "source": [
    "ozone_reading.Month.unique()"
   ]
  },
  {
   "cell_type": "code",
   "execution_count": 38,
   "metadata": {},
   "outputs": [
    {
     "data": {
      "text/html": [
       "<div>\n",
       "<style scoped>\n",
       "    .dataframe tbody tr th:only-of-type {\n",
       "        vertical-align: middle;\n",
       "    }\n",
       "\n",
       "    .dataframe tbody tr th {\n",
       "        vertical-align: top;\n",
       "    }\n",
       "\n",
       "    .dataframe thead th {\n",
       "        text-align: right;\n",
       "    }\n",
       "</style>\n",
       "<table border=\"1\" class=\"dataframe\">\n",
       "  <thead>\n",
       "    <tr style=\"text-align: right;\">\n",
       "      <th></th>\n",
       "      <th>Day_of_month</th>\n",
       "      <th>ozone_reading</th>\n",
       "      <th>pressure_height</th>\n",
       "      <th>Wind_speed</th>\n",
       "      <th>Humidity</th>\n",
       "      <th>Inversion_temperature</th>\n",
       "      <th>Visibility</th>\n",
       "    </tr>\n",
       "  </thead>\n",
       "  <tbody>\n",
       "    <tr>\n",
       "      <th>count</th>\n",
       "      <td>103.000000</td>\n",
       "      <td>103.000000</td>\n",
       "      <td>103.000000</td>\n",
       "      <td>103.000000</td>\n",
       "      <td>103.000000</td>\n",
       "      <td>103.000000</td>\n",
       "      <td>103.000000</td>\n",
       "    </tr>\n",
       "    <tr>\n",
       "      <th>mean</th>\n",
       "      <td>14.980583</td>\n",
       "      <td>10.254175</td>\n",
       "      <td>5696.796117</td>\n",
       "      <td>5.174757</td>\n",
       "      <td>56.786408</td>\n",
       "      <td>56.254563</td>\n",
       "      <td>137.368932</td>\n",
       "    </tr>\n",
       "    <tr>\n",
       "      <th>std</th>\n",
       "      <td>8.465594</td>\n",
       "      <td>7.076096</td>\n",
       "      <td>116.056220</td>\n",
       "      <td>1.997190</td>\n",
       "      <td>18.472370</td>\n",
       "      <td>14.482588</td>\n",
       "      <td>84.619910</td>\n",
       "    </tr>\n",
       "    <tr>\n",
       "      <th>min</th>\n",
       "      <td>1.000000</td>\n",
       "      <td>1.800000</td>\n",
       "      <td>5320.000000</td>\n",
       "      <td>0.000000</td>\n",
       "      <td>19.000000</td>\n",
       "      <td>27.500000</td>\n",
       "      <td>2.000000</td>\n",
       "    </tr>\n",
       "    <tr>\n",
       "      <th>25%</th>\n",
       "      <td>8.000000</td>\n",
       "      <td>4.815000</td>\n",
       "      <td>5645.000000</td>\n",
       "      <td>4.000000</td>\n",
       "      <td>46.000000</td>\n",
       "      <td>45.680000</td>\n",
       "      <td>75.000000</td>\n",
       "    </tr>\n",
       "    <tr>\n",
       "      <th>50%</th>\n",
       "      <td>14.000000</td>\n",
       "      <td>8.680000</td>\n",
       "      <td>5710.000000</td>\n",
       "      <td>5.000000</td>\n",
       "      <td>61.000000</td>\n",
       "      <td>56.300000</td>\n",
       "      <td>120.000000</td>\n",
       "    </tr>\n",
       "    <tr>\n",
       "      <th>75%</th>\n",
       "      <td>22.000000</td>\n",
       "      <td>13.530000</td>\n",
       "      <td>5770.000000</td>\n",
       "      <td>6.000000</td>\n",
       "      <td>70.500000</td>\n",
       "      <td>66.020000</td>\n",
       "      <td>200.000000</td>\n",
       "    </tr>\n",
       "    <tr>\n",
       "      <th>max</th>\n",
       "      <td>31.000000</td>\n",
       "      <td>33.040000</td>\n",
       "      <td>5890.000000</td>\n",
       "      <td>11.000000</td>\n",
       "      <td>92.000000</td>\n",
       "      <td>89.780000</td>\n",
       "      <td>350.000000</td>\n",
       "    </tr>\n",
       "  </tbody>\n",
       "</table>\n",
       "</div>"
      ],
      "text/plain": [
       "       Day_of_month  ozone_reading  pressure_height  Wind_speed    Humidity  \\\n",
       "count    103.000000     103.000000       103.000000  103.000000  103.000000   \n",
       "mean      14.980583      10.254175      5696.796117    5.174757   56.786408   \n",
       "std        8.465594       7.076096       116.056220    1.997190   18.472370   \n",
       "min        1.000000       1.800000      5320.000000    0.000000   19.000000   \n",
       "25%        8.000000       4.815000      5645.000000    4.000000   46.000000   \n",
       "50%       14.000000       8.680000      5710.000000    5.000000   61.000000   \n",
       "75%       22.000000      13.530000      5770.000000    6.000000   70.500000   \n",
       "max       31.000000      33.040000      5890.000000   11.000000   92.000000   \n",
       "\n",
       "       Inversion_temperature  Visibility  \n",
       "count             103.000000  103.000000  \n",
       "mean               56.254563  137.368932  \n",
       "std                14.482588   84.619910  \n",
       "min                27.500000    2.000000  \n",
       "25%                45.680000   75.000000  \n",
       "50%                56.300000  120.000000  \n",
       "75%                66.020000  200.000000  \n",
       "max                89.780000  350.000000  "
      ]
     },
     "execution_count": 38,
     "metadata": {},
     "output_type": "execute_result"
    }
   ],
   "source": [
    "ozone_reading.describe()"
   ]
  },
  {
   "cell_type": "code",
   "execution_count": 40,
   "metadata": {},
   "outputs": [
    {
     "data": {
      "image/png": "[encoded data removed]",
      "text/plain": [
       "<Figure size 720x576 with 2 Axes>"
      ]
     },
     "metadata": {
      "needs_background": "light"
     },
     "output_type": "display_data"
    }
   ],
   "source": [
    "ozone_reading_correlation = ozone_reading.corr()\n",
    "\n",
    "ozone_reading_correlation\n",
    "\n",
    "fig, ax = plt.subplots(figsize = (10, 8))\n",
    "sns.heatmap(ozone_reading_correlation,\n",
    "           annot = True,\n",
    "           cmap = \"viridis\")\n",
    "\n",
    "plt.show();"
   ]
  },
  {
   "cell_type": "code",
   "execution_count": 41,
   "metadata": {},
   "outputs": [],
   "source": [
    "# feature hasher\n",
    "fh = FeatureHasher(n_features = 4, input_type = \"string\")"
   ]
  },
  {
   "cell_type": "code",
   "execution_count": 45,
   "metadata": {},
   "outputs": [],
   "source": [
    "hashed_features = fh.fit_transform(ozone_reading[\"Month\"])"
   ]
  },
  {
   "cell_type": "code",
   "execution_count": 46,
   "metadata": {},
   "outputs": [
    {
     "data": {
      "text/plain": [
       "array([[0., 1., 3., 1.],\n",
       "       [0., 1., 3., 1.],\n",
       "       [0., 1., 3., 1.],\n",
       "       [0., 1., 3., 1.],\n",
       "       [0., 1., 3., 1.],\n",
       "       [0., 1., 3., 1.],\n",
       "       [0., 1., 3., 1.],\n",
       "       [0., 1., 3., 1.]])"
      ]
     },
     "execution_count": 46,
     "metadata": {},
     "output_type": "execute_result"
    }
   ],
   "source": [
    "hashed_features = hashed_features.toarray()\n",
    "\n",
    "hashed_features[:8]"
   ]
  },
  {
   "cell_type": "code",
   "execution_count": 47,
   "metadata": {},
   "outputs": [],
   "source": [
    "# cat to rep the hashed values\n",
    "hashed_categories = [\"month_hash_0\", \"month_hash_1\", \"month_hash_2\", \"month_hash_3\"]"
   ]
  },
  {
   "cell_type": "code",
   "execution_count": 49,
   "metadata": {},
   "outputs": [
    {
     "data": {
      "text/html": [
       "<div>\n",
       "<style scoped>\n",
       "    .dataframe tbody tr th:only-of-type {\n",
       "        vertical-align: middle;\n",
       "    }\n",
       "\n",
       "    .dataframe tbody tr th {\n",
       "        vertical-align: top;\n",
       "    }\n",
       "\n",
       "    .dataframe thead th {\n",
       "        text-align: right;\n",
       "    }\n",
       "</style>\n",
       "<table border=\"1\" class=\"dataframe\">\n",
       "  <thead>\n",
       "    <tr style=\"text-align: right;\">\n",
       "      <th></th>\n",
       "      <th>month_hash_0</th>\n",
       "      <th>month_hash_1</th>\n",
       "      <th>month_hash_2</th>\n",
       "      <th>month_hash_3</th>\n",
       "    </tr>\n",
       "  </thead>\n",
       "  <tbody>\n",
       "    <tr>\n",
       "      <th>85</th>\n",
       "      <td>0</td>\n",
       "      <td>0</td>\n",
       "      <td>3</td>\n",
       "      <td>0</td>\n",
       "    </tr>\n",
       "    <tr>\n",
       "      <th>65</th>\n",
       "      <td>1</td>\n",
       "      <td>0</td>\n",
       "      <td>0</td>\n",
       "      <td>0</td>\n",
       "    </tr>\n",
       "    <tr>\n",
       "      <th>26</th>\n",
       "      <td>1</td>\n",
       "      <td>1</td>\n",
       "      <td>1</td>\n",
       "      <td>1</td>\n",
       "    </tr>\n",
       "    <tr>\n",
       "      <th>71</th>\n",
       "      <td>1</td>\n",
       "      <td>0</td>\n",
       "      <td>0</td>\n",
       "      <td>0</td>\n",
       "    </tr>\n",
       "    <tr>\n",
       "      <th>83</th>\n",
       "      <td>0</td>\n",
       "      <td>0</td>\n",
       "      <td>3</td>\n",
       "      <td>0</td>\n",
       "    </tr>\n",
       "    <tr>\n",
       "      <th>80</th>\n",
       "      <td>0</td>\n",
       "      <td>0</td>\n",
       "      <td>3</td>\n",
       "      <td>0</td>\n",
       "    </tr>\n",
       "    <tr>\n",
       "      <th>57</th>\n",
       "      <td>1</td>\n",
       "      <td>0</td>\n",
       "      <td>0</td>\n",
       "      <td>0</td>\n",
       "    </tr>\n",
       "  </tbody>\n",
       "</table>\n",
       "</div>"
      ],
      "text/plain": [
       "    month_hash_0  month_hash_1  month_hash_2  month_hash_3\n",
       "85             0             0             3             0\n",
       "65             1             0             0             0\n",
       "26             1             1             1             1\n",
       "71             1             0             0             0\n",
       "83             0             0             3             0\n",
       "80             0             0             3             0\n",
       "57             1             0             0             0"
      ]
     },
     "execution_count": 49,
     "metadata": {},
     "output_type": "execute_result"
    }
   ],
   "source": [
    "hashed_df = pd.DataFrame(hashed_features, columns = hashed_categories, dtype = np.int)\n",
    "\n",
    "hashed_df.sample(7)"
   ]
  },
  {
   "cell_type": "code",
   "execution_count": 51,
   "metadata": {},
   "outputs": [
    {
     "data": {
      "text/html": [
       "<div>\n",
       "<style scoped>\n",
       "    .dataframe tbody tr th:only-of-type {\n",
       "        vertical-align: middle;\n",
       "    }\n",
       "\n",
       "    .dataframe tbody tr th {\n",
       "        vertical-align: top;\n",
       "    }\n",
       "\n",
       "    .dataframe thead th {\n",
       "        text-align: right;\n",
       "    }\n",
       "</style>\n",
       "<table border=\"1\" class=\"dataframe\">\n",
       "  <thead>\n",
       "    <tr style=\"text-align: right;\">\n",
       "      <th></th>\n",
       "      <th>Month</th>\n",
       "      <th>Day_of_month</th>\n",
       "      <th>ozone_reading</th>\n",
       "      <th>pressure_height</th>\n",
       "      <th>Wind_speed</th>\n",
       "      <th>Humidity</th>\n",
       "      <th>Inversion_temperature</th>\n",
       "      <th>Visibility</th>\n",
       "      <th>month_hash_0</th>\n",
       "      <th>month_hash_1</th>\n",
       "      <th>month_hash_2</th>\n",
       "      <th>month_hash_3</th>\n",
       "    </tr>\n",
       "  </thead>\n",
       "  <tbody>\n",
       "    <tr>\n",
       "      <th>27</th>\n",
       "      <td>February</td>\n",
       "      <td>18</td>\n",
       "      <td>12.77</td>\n",
       "      <td>5770</td>\n",
       "      <td>3</td>\n",
       "      <td>82</td>\n",
       "      <td>58.28</td>\n",
       "      <td>40</td>\n",
       "      <td>1</td>\n",
       "      <td>1</td>\n",
       "      <td>1</td>\n",
       "      <td>1</td>\n",
       "    </tr>\n",
       "    <tr>\n",
       "      <th>60</th>\n",
       "      <td>April</td>\n",
       "      <td>8</td>\n",
       "      <td>5.09</td>\n",
       "      <td>5550</td>\n",
       "      <td>7</td>\n",
       "      <td>63</td>\n",
       "      <td>37.22</td>\n",
       "      <td>250</td>\n",
       "      <td>1</td>\n",
       "      <td>0</td>\n",
       "      <td>0</td>\n",
       "      <td>0</td>\n",
       "    </tr>\n",
       "    <tr>\n",
       "      <th>31</th>\n",
       "      <td>February</td>\n",
       "      <td>25</td>\n",
       "      <td>10.27</td>\n",
       "      <td>5720</td>\n",
       "      <td>6</td>\n",
       "      <td>63</td>\n",
       "      <td>59.18</td>\n",
       "      <td>150</td>\n",
       "      <td>1</td>\n",
       "      <td>1</td>\n",
       "      <td>1</td>\n",
       "      <td>1</td>\n",
       "    </tr>\n",
       "    <tr>\n",
       "      <th>8</th>\n",
       "      <td>January</td>\n",
       "      <td>15</td>\n",
       "      <td>3.94</td>\n",
       "      <td>5830</td>\n",
       "      <td>3</td>\n",
       "      <td>19</td>\n",
       "      <td>75.74</td>\n",
       "      <td>250</td>\n",
       "      <td>0</td>\n",
       "      <td>1</td>\n",
       "      <td>3</td>\n",
       "      <td>1</td>\n",
       "    </tr>\n",
       "    <tr>\n",
       "      <th>50</th>\n",
       "      <td>March</td>\n",
       "      <td>25</td>\n",
       "      <td>13.94</td>\n",
       "      <td>5720</td>\n",
       "      <td>4</td>\n",
       "      <td>71</td>\n",
       "      <td>56.30</td>\n",
       "      <td>60</td>\n",
       "      <td>0</td>\n",
       "      <td>-1</td>\n",
       "      <td>2</td>\n",
       "      <td>0</td>\n",
       "    </tr>\n",
       "  </tbody>\n",
       "</table>\n",
       "</div>"
      ],
      "text/plain": [
       "       Month  Day_of_month  ozone_reading  pressure_height  Wind_speed  \\\n",
       "27  February            18          12.77             5770           3   \n",
       "60     April             8           5.09             5550           7   \n",
       "31  February            25          10.27             5720           6   \n",
       "8    January            15           3.94             5830           3   \n",
       "50     March            25          13.94             5720           4   \n",
       "\n",
       "    Humidity  Inversion_temperature  Visibility  month_hash_0  month_hash_1  \\\n",
       "27        82                  58.28          40             1             1   \n",
       "60        63                  37.22         250             1             0   \n",
       "31        63                  59.18         150             1             1   \n",
       "8         19                  75.74         250             0             1   \n",
       "50        71                  56.30          60             0            -1   \n",
       "\n",
       "    month_hash_2  month_hash_3  \n",
       "27             1             1  \n",
       "60             0             0  \n",
       "31             1             1  \n",
       "8              3             1  \n",
       "50             2             0  "
      ]
     },
     "execution_count": 51,
     "metadata": {},
     "output_type": "execute_result"
    }
   ],
   "source": [
    "# concat original df and hashed df\n",
    "hashed_ozone_reading = pd.concat([ozone_reading, hashed_df], axis = 1)\n",
    "\n",
    "hashed_ozone_reading.sample(5)"
   ]
  },
  {
   "cell_type": "code",
   "execution_count": 52,
   "metadata": {},
   "outputs": [],
   "source": [
    "# drop oringinal month column, no use again\n",
    "hashed_ozone_reading.drop(columns = [\"Month\"], inplace = True)"
   ]
  },
  {
   "cell_type": "code",
   "execution_count": 53,
   "metadata": {},
   "outputs": [],
   "source": [
    "X = hashed_ozone_reading.drop(\"ozone_reading\", axis = 1)\n",
    "y = hashed_ozone_reading.ozone_reading"
   ]
  },
  {
   "cell_type": "code",
   "execution_count": 54,
   "metadata": {},
   "outputs": [
    {
     "name": "stdout",
     "output_type": "stream",
     "text": [
      "Training score:  0.711599661028506\n"
     ]
    }
   ],
   "source": [
    "from sklearn.linear_model import LinearRegression\n",
    "\n",
    "linear_model = LinearRegression()\n",
    "\n",
    "linear_model.fit(X, y)\n",
    "\n",
    "print(\"Training score: \", linear_model.score(X, y))"
   ]
  },
  {
   "cell_type": "code",
   "execution_count": null,
   "metadata": {},
   "outputs": [],
   "source": []
  },
  {
   "cell_type": "code",
   "execution_count": null,
   "metadata": {},
   "outputs": [],
   "source": []
  },
  {
   "cell_type": "code",
   "execution_count": null,
   "metadata": {},
   "outputs": [],
   "source": []
  },
  {
   "cell_type": "code",
   "execution_count": null,
   "metadata": {},
   "outputs": [],
   "source": []
  },
  {
   "cell_type": "code",
   "execution_count": null,
   "metadata": {},
   "outputs": [],
   "source": []
  },
  {
   "cell_type": "code",
   "execution_count": null,
   "metadata": {},
   "outputs": [],
   "source": []
  },
  {
   "cell_type": "code",
   "execution_count": null,
   "metadata": {},
   "outputs": [],
   "source": []
  },
  {
   "cell_type": "code",
   "execution_count": null,
   "metadata": {},
   "outputs": [],
   "source": []
  },
  {
   "cell_type": "code",
   "execution_count": null,
   "metadata": {},
   "outputs": [],
   "source": []
  },
  {
   "cell_type": "code",
   "execution_count": null,
   "metadata": {},
   "outputs": [],
   "source": []
  },
  {
   "cell_type": "code",
   "execution_count": null,
   "metadata": {},
   "outputs": [],
   "source": []
  },
  {
   "cell_type": "code",
   "execution_count": null,
   "metadata": {},
   "outputs": [],
   "source": []
  },
  {
   "cell_type": "code",
   "execution_count": null,
   "metadata": {},
   "outputs": [],
   "source": []
  },
  {
   "cell_type": "code",
   "execution_count": null,
   "metadata": {},
   "outputs": [],
   "source": []
  },
  {
   "cell_type": "code",
   "execution_count": null,
   "metadata": {},
   "outputs": [],
   "source": []
  },
  {
   "cell_type": "code",
   "execution_count": null,
   "metadata": {},
   "outputs": [],
   "source": []
  },
  {
   "cell_type": "code",
   "execution_count": null,
   "metadata": {},
   "outputs": [],
   "source": []
  },
  {
   "cell_type": "code",
   "execution_count": null,
   "metadata": {},
   "outputs": [],
   "source": []
  },
  {
   "cell_type": "code",
   "execution_count": null,
   "metadata": {},
   "outputs": [],
   "source": []
  },
  {
   "cell_type": "code",
   "execution_count": null,
   "metadata": {},
   "outputs": [],
   "source": []
  },
  {
   "cell_type": "code",
   "execution_count": null,
   "metadata": {},
   "outputs": [],
   "source": []
  },
  {
   "cell_type": "code",
   "execution_count": null,
   "metadata": {},
   "outputs": [],
   "source": []
  },
  {
   "cell_type": "code",
   "execution_count": null,
   "metadata": {},
   "outputs": [],
   "source": []
  },
  {
   "cell_type": "code",
   "execution_count": null,
   "metadata": {},
   "outputs": [],
   "source": []
  }
 ],
 "metadata": {
  "kernelspec": {
   "display_name": "Python 3",
   "language": "python",
   "name": "python3"
  },
  "language_info": {
   "codemirror_mode": {
    "name": "ipython",
    "version": 3
   },
   "file_extension": ".py",
   "mimetype": "text/x-python",
   "name": "python",
   "nbconvert_exporter": "python",
   "pygments_lexer": "ipython3",
   "version": "3.8.5"
  }
 },
 "nbformat": 4,
 "nbformat_minor": 4
}
